{
 "cells": [
  {
   "cell_type": "code",
   "execution_count": 3,
   "metadata": {},
   "outputs": [
    {
     "data": {
      "text/plain": [
       "<Season: 3: 2019 Fall Start:2019-09-16 End:2020-01-05>"
      ]
     },
     "execution_count": 3,
     "metadata": {},
     "output_type": "execute_result"
    }
   ],
   "source": [
    "season = Season.objects.get(id=3)\n",
    "season"
   ]
  },
  {
   "cell_type": "code",
   "execution_count": 32,
   "metadata": {},
   "outputs": [],
   "source": [
    "season_players = SeasonPlayer.objects.filter(season=season)\n",
    "season_players.count()\n",
    "\n",
    "guys = SeasonPlayer.objects.filter(season=season, player__gender='M')\n",
    "girls = SeasonPlayer.objects.filter(season=season, player__gender='F')"
   ]
  },
  {
   "cell_type": "code",
   "execution_count": 90,
   "metadata": {},
   "outputs": [
    {
     "data": {
      "text/plain": [
       "(7, {'blockdb.ScheduleVerify': 0, 'blockdb.Schedule': 7})"
      ]
     },
     "execution_count": 90,
     "metadata": {},
     "output_type": "execute_result"
    }
   ],
   "source": [
    "Schedule.objects.filter(meeting__season=season).count()\n",
    "Schedule.objects.filter(meeting__season=season).delete()"
   ]
  },
  {
   "cell_type": "code",
   "execution_count": 28,
   "metadata": {},
   "outputs": [],
   "source": [
    "# Schedule some players\n",
    "from django.db import IntegrityError\n",
    "def add_to_schedule(player, meetings, plays):\n",
    "    for i, did_play in enumerate(plays):\n",
    "        if did_play:\n",
    "            try:\n",
    "                Schedule.objects.create(\n",
    "                    meeting=meetings[i],\n",
    "                    player=player\n",
    "                )\n",
    "            except IntegrityError:\n",
    "                pass"
   ]
  },
  {
   "cell_type": "code",
   "execution_count": 61,
   "metadata": {},
   "outputs": [],
   "source": [
    "Schedule.objects.filter(meeting__season=season).delete()\n",
    "add_to_schedule(guys[0].player, season.meetings, [1,0,1,0,1,0, 1, 1, 0])\n",
    "add_to_schedule(girls[0].player, season.meetings, [1,0,1,0,1,0, 0, 0, 1])"
   ]
  },
  {
   "cell_type": "code",
   "execution_count": 42,
   "metadata": {},
   "outputs": [
    {
     "data": {
      "text/plain": [
       "'2 1 9'"
      ]
     },
     "execution_count": 42,
     "metadata": {},
     "output_type": "execute_result"
    }
   ],
   "source": [
    "couple = Couple(male=guys[0].player, female=girls[0].player)\n",
    "\n",
    "scheduled_meetings = Schedule.objects.filter(\n",
    "    meeting__season=season\n",
    ")\n",
    "\n",
    "he = scheduled_meetings.filter(\n",
    "    Q(player=couple.male)\n",
    ").values_list('meeting__id', flat=True)\n",
    "\n",
    "she = scheduled_meetings.filter(\n",
    "    Q(player=couple.female)\n",
    ").values_list('meeting__id', flat=True)\n",
    "\n",
    "he_only = scheduled_meetings.filter(\n",
    "    Q(player=couple.male) & ~Q(meeting__id__in=she)\n",
    ").count()\n",
    "\n",
    "she_only = scheduled_meetings.filter(\n",
    "    Q(player=couple.female) & ~Q(meeting__id__in=he)\n",
    ").count()\n",
    "\n",
    "they = scheduled_meetings.filter(\n",
    "    Q(player=couple.male) | Q(player=couple.female)\n",
    ").count()\n",
    "\n",
    "f\"{he_only} {she_only} {they}\""
   ]
  },
  {
   "cell_type": "code",
   "execution_count": 75,
   "metadata": {},
   "outputs": [],
   "source": [
    "from django.db.models import Q\n",
    "f = Count('player', filter=Q(player__gender='F'))\n",
    "m = Count('player', filter=Q(player__gender='M'))\n",
    "stats = Schedule.objects.filter(\n",
    "    meeting__season=season\n",
    ").order_by('meeting__date').values('meeting').annotate(f=f).annotate(m=m)"
   ]
  },
  {
   "cell_type": "code",
   "execution_count": 78,
   "metadata": {},
   "outputs": [
    {
     "data": {
      "text/plain": [
       "<QuerySet [{'meeting': 30, 'f': 1, 'm': 1}, {'meeting': 32, 'f': 1, 'm': 1}, {'meeting': 34, 'f': 1, 'm': 1}, {'meeting': 36, 'f': 0, 'm': 1}, {'meeting': 37, 'f': 0, 'm': 1}, {'meeting': 38, 'f': 1, 'm': 0}]>"
      ]
     },
     "execution_count": 78,
     "metadata": {},
     "output_type": "execute_result"
    }
   ],
   "source": [
    "stats"
   ]
  },
  {
   "cell_type": "code",
   "execution_count": 87,
   "metadata": {},
   "outputs": [
    {
     "data": {
      "text/plain": [
       "'Both:3 He:2 She:1'"
      ]
     },
     "execution_count": 87,
     "metadata": {},
     "output_type": "execute_result"
    }
   ],
   "source": [
    "they=0\n",
    "he=0\n",
    "she=0\n",
    "\n",
    "for stat in stats:\n",
    "    f = stat.get('f')\n",
    "    m = stat.get('m')\n",
    "    if f and m: they += 1\n",
    "    if m and not f: he += 1\n",
    "    if f and not m: she += 1\n",
    "\n",
    "    \n",
    "f\"Both:{they} He:{he} She:{she}\""
   ]
  },
  {
   "cell_type": "code",
   "execution_count": null,
   "metadata": {},
   "outputs": [],
   "source": []
  }
 ],
 "metadata": {
  "kernelspec": {
   "display_name": "Django Shell-Plus",
   "language": "python",
   "name": "django_extensions"
  },
  "language_info": {
   "codemirror_mode": {
    "name": "ipython",
    "version": 3
   },
   "file_extension": ".py",
   "mimetype": "text/x-python",
   "name": "python",
   "nbconvert_exporter": "python",
   "pygments_lexer": "ipython3",
   "version": "3.7.4"
  }
 },
 "nbformat": 4,
 "nbformat_minor": 2
}
