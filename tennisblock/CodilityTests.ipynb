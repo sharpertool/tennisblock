{
 "cells": [
  {
   "cell_type": "code",
   "execution_count": 20,
   "metadata": {},
   "outputs": [],
   "source": [
    "from collections import defaultdict"
   ]
  },
  {
   "cell_type": "code",
   "execution_count": 71,
   "metadata": {},
   "outputs": [],
   "source": [
    "from collections import defaultdict\n",
    "def clean_data(N, S):\n",
    "    seat_names = {'A': 0, 'B': 1, 'C': 2, 'D': 3, 'E': 4, 'F': 5, 'G': 6, 'H': 7, 'J': 8, 'K': 9}\n",
    "    default = 2**10-1\n",
    "    \n",
    "    rows = defaultdict(int)\n",
    "    for n in range(1, N+1):\n",
    "        rows[n] = default\n",
    "        \n",
    "    if S == '':\n",
    "        return rows\n",
    "    \n",
    "    print(rows)\n",
    "    \n",
    "    reserved_seats = S.split(' ')\n",
    "    print(reserved_seats)\n",
    "    for rseat in reserved_seats:\n",
    "        print(rseat)\n",
    "        row,seat = rseat # Should be 1, K\n",
    "        row = int(row)\n",
    "        col = seat_names[seat]\n",
    "        print(rows[row])\n",
    "        rows[row] = rows[row] & ~(2**col)\n",
    "        print(rows[row])\n",
    "        \n",
    "    return rows\n",
    "\n",
    "        "
   ]
  },
  {
   "cell_type": "code",
   "execution_count": 80,
   "metadata": {},
   "outputs": [
    {
     "name": "stdout",
     "output_type": "stream",
     "text": [
      "defaultdict(<class 'int'>, {1: 1023, 2: 1023})\n",
      "['1A', '2F', '1C']\n",
      "1A\n",
      "1023\n",
      "1022\n",
      "2F\n",
      "1023\n",
      "991\n",
      "1C\n",
      "1022\n",
      "1018\n",
      "defaultdict(<class 'int'>, {1: 1018, 2: 991})\n",
      "one\n",
      "one\n"
     ]
    },
    {
     "data": {
      "text/plain": [
       "2"
      ]
     },
     "execution_count": 80,
     "metadata": {},
     "output_type": "execute_result"
    }
   ],
   "source": [
    "solution(2, '1A 2F 1C')"
   ]
  },
  {
   "cell_type": "code",
   "execution_count": 81,
   "metadata": {},
   "outputs": [],
   "source": [
    "def options_in_row(row):\n",
    "    # row is an array of one hot values [0001011001]\n",
    "    # Each item indicates the availability of a seat 0 = not available\n",
    "    poss = [\n",
    "        int(b\"0111100000\", 2),\n",
    "        int(b\"0001111000\", 2),\n",
    "        int(b\"0000011110\", 2),\n",
    "    ]\n",
    "    \n",
    "    if (row & poss[0] == poss[0]) and (row & poss[2] == poss[2]):\n",
    "        print('both')\n",
    "        return 2\n",
    "\n",
    "    if row & poss[0] == poss[0] or row & poss[1] == poss[1] or row & poss[2] == poss[2]:\n",
    "        print('one')\n",
    "        return 1\n",
    "    \n",
    "    return 0\n"
   ]
  },
  {
   "cell_type": "code",
   "execution_count": 74,
   "metadata": {},
   "outputs": [],
   "source": [
    "def solution(N, S):\n",
    "    \n",
    "    \n",
    "    # write your code in Python 3.6\n",
    "    binary_rows = clean_data(N,S)\n",
    "    print(binary_rows)\n",
    "    \n",
    "    options = 0\n",
    "    for n in range(1, N+1):\n",
    "        \n",
    "        options += options_in_row(binary_rows[n])\n",
    "        \n",
    "    return options\n",
    "\n"
   ]
  },
  {
   "cell_type": "code",
   "execution_count": 75,
   "metadata": {},
   "outputs": [
    {
     "name": "stdout",
     "output_type": "stream",
     "text": [
      "defaultdict(<class 'int'>, {1: 1023, 2: 1023, 3: 1023, 4: 1023, 5: 1023, 6: 1023, 7: 1023, 8: 1023, 9: 1023, 10: 1023})\n"
     ]
    },
    {
     "data": {
      "text/plain": [
       "20"
      ]
     },
     "execution_count": 75,
     "metadata": {},
     "output_type": "execute_result"
    }
   ],
   "source": [
    "solution(10, '')"
   ]
  },
  {
   "cell_type": "code",
   "execution_count": 59,
   "metadata": {},
   "outputs": [
    {
     "name": "stdout",
     "output_type": "stream",
     "text": [
      "['1A', '2F', '1C']\n",
      "defaultdict(<class 'int'>, {1: 1023, 2: 1023, '1': 5, '2': 32})\n"
     ]
    },
    {
     "data": {
      "text/plain": [
       "4"
      ]
     },
     "execution_count": 59,
     "metadata": {},
     "output_type": "execute_result"
    }
   ],
   "source": []
  },
  {
   "cell_type": "code",
   "execution_count": 84,
   "metadata": {},
   "outputs": [
    {
     "data": {
      "text/plain": [
       "[1, 2, 3]"
      ]
     },
     "execution_count": 84,
     "metadata": {},
     "output_type": "execute_result"
    }
   ],
   "source": [
    "A = [1, 2,3, 4, 5]\n",
    "list(range(1, len(A)-1))"
   ]
  },
  {
   "cell_type": "code",
   "execution_count": 85,
   "metadata": {},
   "outputs": [
    {
     "data": {
      "text/plain": [
       "3"
      ]
     },
     "execution_count": 85,
     "metadata": {},
     "output_type": "execute_result"
    }
   ],
   "source": [
    "max(1, 3)"
   ]
  },
  {
   "cell_type": "code",
   "execution_count": null,
   "metadata": {},
   "outputs": [],
   "source": [
    "# you can write to stdout for debugging purposes, e.g.\n",
    "# print(\"this is a debug message\")\n",
    "\n",
    "class TheBoard:\n",
    "    \n",
    "    def __init__(self, Board):\n",
    "        self.board = Board\n",
    "        self.N = len(Board)\n",
    "        self.M = len(Board[0])\n",
    "        \n",
    "    def test(self):\n",
    "        \"\"\" Iterate over possible starting locations \"\"\"\n",
    "        max_val = 0\n",
    "        for N in range(self.N):\n",
    "            for M in range(self.M):\n",
    "                vals = self.counts_at(N, M)\n",
    "                max_val = max(max_val, max(vals))\n",
    "                \n",
    "        return  max_val\n",
    "        \n",
    "    def adjacent_fields(self, n, m):\n",
    "        \"\"\" Find possible adjacent fields from starting location \"\"\"\n",
    "        fields = []\n",
    "        if n > 0:\n",
    "            fields.append((n-1, m))\n",
    "        if m > 0:\n",
    "            fields.append((n, m-1))\n",
    "        if n < self.N-2:\n",
    "            fields.append((n+1, m))\n",
    "        if m < self.M-2:\n",
    "            fields.append((n, m+1))\n",
    "            \n",
    "        return fields\n",
    "\n",
    "    def counts_at(self, n, m, paths=None):\n",
    "        \"\"\" \n",
    "        Recursively follow paths, adding adjacent cells.\n",
    "        - do not add cells that already exist\n",
    "        - \n",
    "        \n",
    "        ToDo:\n",
    "        - add method to calcualte sum of a path\n",
    "        - add method to add an adjacent cell that isn't in path and recurse\n",
    "        - recurse until path len == 4\n",
    "        \"\"\"\n",
    "        if paths is None:\n",
    "            paths = []\n",
    "        fields = self.adjacent_fields(n, m)\n",
    "        for path in paths:\n",
    "            for field in fields:\n",
    "                pass\n",
    "            \n",
    "        return [0]\n",
    "\n",
    "\n",
    "def solution(Board):\n",
    "    # write your code in Python 3.6\n",
    "    \n",
    "    board = TheBoard(Board)\n",
    "    solution = board.test()\n",
    "    \n",
    "    return solution\n",
    "    \n"
   ]
  }
 ],
 "metadata": {
  "kernelspec": {
   "display_name": "Python 3",
   "language": "python",
   "name": "python3"
  },
  "language_info": {
   "codemirror_mode": {
    "name": "ipython",
    "version": 3
   },
   "file_extension": ".py",
   "mimetype": "text/x-python",
   "name": "python",
   "nbconvert_exporter": "python",
   "pygments_lexer": "ipython3",
   "version": "3.7.4"
  }
 },
 "nbformat": 4,
 "nbformat_minor": 2
}
