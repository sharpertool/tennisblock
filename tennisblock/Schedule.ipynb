{
 "cells": [
  {
   "cell_type": "code",
   "execution_count": 1,
   "metadata": {},
   "outputs": [],
   "source": [
    "%load_ext autoreload\n",
    "%autoreload 2"
   ]
  },
  {
   "cell_type": "code",
   "execution_count": 2,
   "metadata": {},
   "outputs": [],
   "source": [
    "from django.db.models import Q"
   ]
  },
  {
   "cell_type": "code",
   "execution_count": 3,
   "metadata": {},
   "outputs": [
    {
     "data": {
      "text/plain": [
       "<Season: 3: 2019 Fall Start:2019-09-16 End:2020-01-05>"
      ]
     },
     "execution_count": 3,
     "metadata": {},
     "output_type": "execute_result"
    }
   ],
   "source": [
    "season = Season.objects.all().last()\n",
    "season"
   ]
  },
  {
   "cell_type": "code",
   "execution_count": 4,
   "metadata": {},
   "outputs": [],
   "source": [
    "meeting = Meeting.objects.filter(season=season).get(date='2019-12-06')"
   ]
  },
  {
   "cell_type": "code",
   "execution_count": 5,
   "metadata": {},
   "outputs": [
    {
     "data": {
      "text/plain": [
       "(<QuerySet [(54, None), (40, None), (17, 18), (1, 2), (113, 112), (135, 134), (19, 111), (61, 66)]>,\n",
       " <QuerySet []>)"
      ]
     },
     "execution_count": 5,
     "metadata": {},
     "output_type": "execute_result"
    }
   ],
   "source": [
    "scheduled = Schedule.objects.filter(meeting=meeting)\n",
    "guy_ids = scheduled.filter(player__gender='M').values_list('player__id', 'partner_id')\n",
    "guy_ids_only = scheduled.filter(player__gender='M').values_list('player__id', flat=True)\n",
    "gal_ids = scheduled.filter(Q(player__gender='F')&~Q(partner__in=guy_ids_only)).values_list('partner_id', 'player__id')\n",
    "\n",
    "guy_ids, gal_ids"
   ]
  },
  {
   "cell_type": "code",
   "execution_count": 6,
   "metadata": {},
   "outputs": [
    {
     "data": {
      "text/plain": [
       "[(17, 18),\n",
       " (1, 2),\n",
       " (135, 134),\n",
       " (54, None),\n",
       " (19, 111),\n",
       " (61, 66),\n",
       " (113, 112),\n",
       " (40, None)]"
      ]
     },
     "execution_count": 6,
     "metadata": {},
     "output_type": "execute_result"
    }
   ],
   "source": [
    "couples = set(guy_ids).union(gal_ids)\n",
    "list(couples)"
   ]
  },
  {
   "cell_type": "code",
   "execution_count": 10,
   "metadata": {},
   "outputs": [
    {
     "data": {
      "text/plain": [
       "'[{\"id\": 40, \"full_name\": \"Wes Carr\", \"ntrp\": 3.5, \"microntrp\": 3.8, \"gender\": \"M\"}, {\"id\": 54, \"full_name\": \"Fazal Shariff\", \"ntrp\": 4.0, \"microntrp\": 4.0, \"gender\": \"M\"}, {\"id\": 19, \"full_name\": \"Jeff Trask\", \"ntrp\": 4.5, \"microntrp\": 4.5, \"gender\": \"M\"}, {\"id\": 17, \"full_name\": \"Mark Smith\", \"ntrp\": 4.5, \"microntrp\": 4.5, \"gender\": \"M\"}, {\"id\": 61, \"full_name\": \"Willie Lafrades\", \"ntrp\": 4.0, \"microntrp\": 4.1, \"gender\": \"M\"}, {\"id\": 1, \"full_name\": \"Ed Henderson\", \"ntrp\": 3.5, \"microntrp\": 3.85, \"gender\": \"M\"}, {\"id\": 113, \"full_name\": \"Jason Steele\", \"ntrp\": 3.5, \"microntrp\": 3.9, \"gender\": \"M\"}, {\"id\": 135, \"full_name\": \"Jeff Thompson\", \"ntrp\": 4.0, \"microntrp\": 4.15, \"gender\": \"M\"}]'"
      ]
     },
     "execution_count": 10,
     "metadata": {},
     "output_type": "execute_result"
    }
   ],
   "source": [
    "import json\n",
    "from TBLib.serializers import PlayerSerializer\n",
    "guys = Player.objects.filter(id__in=scheduled.filter(player__gender='M').values('player__id'))\n",
    "sguys = PlayerSerializer(guys, many=True)\n",
    "json.dumps(sguys.data)"
   ]
  },
  {
   "cell_type": "code",
   "execution_count": null,
   "metadata": {},
   "outputs": [],
   "source": [
    "sguy"
   ]
  },
  {
   "cell_type": "code",
   "execution_count": null,
   "metadata": {},
   "outputs": [],
   "source": []
  }
 ],
 "metadata": {
  "kernelspec": {
   "display_name": "Django Shell-Plus",
   "language": "python",
   "name": "django_extensions"
  },
  "language_info": {
   "codemirror_mode": {
    "name": "ipython",
    "version": 3
   },
   "file_extension": ".py",
   "mimetype": "text/x-python",
   "name": "python",
   "nbconvert_exporter": "python",
   "pygments_lexer": "ipython3",
   "version": "3.7.4"
  }
 },
 "nbformat": 4,
 "nbformat_minor": 2
}
