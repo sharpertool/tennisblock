{
 "cells": [
  {
   "cell_type": "code",
   "execution_count": 15,
   "metadata": {},
   "outputs": [
    {
     "data": {
      "text/plain": [
       "(<QuerySet [1, 3, 4, 5, 6, 7, 9, 11, 12, 14, 15, 16, 18, 19, 20, 22, 23, 24, 25, 26, '...(remaining elements truncated)...']>,\n",
       " 1)"
      ]
     },
     "execution_count": 15,
     "metadata": {},
     "output_type": "execute_result"
    }
   ],
   "source": [
    "meetings = Schedule.objects.distinct().values_list('meeting', flat=True).order_by('meeting')\n",
    "meetings, meetings[0]"
   ]
  },
  {
   "cell_type": "code",
   "execution_count": 23,
   "metadata": {},
   "outputs": [
    {
     "data": {
      "text/plain": [
       "548"
      ]
     },
     "execution_count": 23,
     "metadata": {},
     "output_type": "execute_result"
    }
   ],
   "source": [
    "Schedule.objects.update(pair_index=-1)"
   ]
  },
  {
   "cell_type": "code",
   "execution_count": 24,
   "metadata": {},
   "outputs": [
    {
     "name": "stdout",
     "output_type": "stream",
     "text": [
      "set 1 and 2 to index 0\n",
      "Updated 2 to 1\n",
      "set 4 and 54 to index 1\n",
      "set 9 and 93 to index 2\n",
      "set 19 and 105 to index 3\n",
      "Updated 54 to 4\n",
      "set 74 and 114 to index 4\n",
      "set 80 and 94 to index 5\n",
      "Updated 93 to 6\n",
      "Updated 94 to 6\n",
      "Updated 105 to 6\n",
      "set 108 and 109 to index 6\n",
      "Updated 109 to 7\n",
      "set 112 and 113 to index 7\n",
      "Updated 113 to 8\n",
      "Updated 114 to 8\n"
     ]
    }
   ],
   "source": [
    "from collections import defaultdict\n",
    "pairs_by_id = {}\n",
    "pair_index = 0\n",
    "for sch in Schedule.objects.filter(meeting=meetings[0]).order_by('player__id'):\n",
    "    player_id, partner_id, pidx = sch.player.id, sch.partner.id, sch.pair_index\n",
    "    if pidx > -1:\n",
    "        pairs_by_id[player_id] = pidx\n",
    "        pairs_by_id[partner_id] = pidx\n",
    "    else:\n",
    "        if player_id in pairs_by_id:\n",
    "            sch.pair_index = pairs_by_id[player_id]\n",
    "            sch.save()\n",
    "            pairs_by_id[partner_id] = pairs_by_id[player_id]\n",
    "            print(f\"Updated {player_id} to {pair_index}\")\n",
    "        elif partner_id in pairs_by_id:\n",
    "            sch.pair_index = pairs_by_id[partner_id]\n",
    "            sch.save()\n",
    "            pairs_by_id[player_id] = pairs_by_id[partner_id]\n",
    "        else:\n",
    "            # Add the value to both\n",
    "            pairs_by_id[player_id] = pair_index\n",
    "            pairs_by_id[partner_id] = pair_index\n",
    "            print(f\"set {player_id} and {partner_id} to index {pair_index}\")\n",
    "            sch.pair_index = pair_index\n",
    "            sch.save()\n",
    "            pair_index += 1\n",
    "        \n",
    "        \n",
    "    \n",
    "    \n",
    "    \n",
    "    "
   ]
  },
  {
   "cell_type": "code",
   "execution_count": 38,
   "metadata": {},
   "outputs": [
    {
     "data": {
      "text/plain": [
       "(2, 1)"
      ]
     },
     "execution_count": 38,
     "metadata": {},
     "output_type": "execute_result"
    }
   ],
   "source": [
    "m = 41\n",
    "couples = Schedule.objects.filter(meeting=m).distinct('pair_index').order_by('pair_index')\n",
    "couples[0].player.id, couples[0].partner.id"
   ]
  },
  {
   "cell_type": "code",
   "execution_count": 40,
   "metadata": {},
   "outputs": [
    {
     "data": {
      "text/plain": [
       "[(2, 1, 0),\n",
       " (17, 18, 1),\n",
       " (111, 19, 2),\n",
       " (40, 87, 3),\n",
       " (99, 54, 4),\n",
       " (61, 66, 5),\n",
       " (113, 112, 6),\n",
       " (135, 134, 7)]"
      ]
     },
     "execution_count": 40,
     "metadata": {},
     "output_type": "execute_result"
    }
   ],
   "source": [
    "[(c.player.id, c.partner.id, c.pair_index) for c in couples]"
   ]
  },
  {
   "cell_type": "code",
   "execution_count": 42,
   "metadata": {},
   "outputs": [
    {
     "data": {
      "text/plain": [
       "{'pair_index__max': 7}"
      ]
     },
     "execution_count": 42,
     "metadata": {},
     "output_type": "execute_result"
    }
   ],
   "source": [
    "from django.db.models import Max\n",
    "Schedule.objects.filter(meeting=m).aggregate(Max('pair_index'))"
   ]
  },
  {
   "cell_type": "code",
   "execution_count": null,
   "metadata": {},
   "outputs": [],
   "source": []
  }
 ],
 "metadata": {
  "kernelspec": {
   "display_name": "Django Shell-Plus",
   "language": "python",
   "name": "django_extensions"
  },
  "language_info": {
   "codemirror_mode": {
    "name": "ipython",
    "version": 3
   },
   "file_extension": ".py",
   "mimetype": "text/x-python",
   "name": "python",
   "nbconvert_exporter": "python",
   "pygments_lexer": "ipython3",
   "version": "3.8.0"
  }
 },
 "nbformat": 4,
 "nbformat_minor": 2
}
