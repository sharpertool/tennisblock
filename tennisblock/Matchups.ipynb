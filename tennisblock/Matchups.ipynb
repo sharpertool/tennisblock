{
 "cells": [
  {
   "cell_type": "code",
   "execution_count": 1,
   "metadata": {},
   "outputs": [],
   "source": [
    "matchups = Matchup.objects.filter(meeting_id=46)"
   ]
  },
  {
   "cell_type": "code",
   "execution_count": 8,
   "metadata": {},
   "outputs": [
    {
     "data": {
      "text/plain": [
       "<QuerySet [<Matchup: 4: 2020 Spring Start:2020-01-06 End:2020-04-05:2020-01-17 set:2 court:1 Ray Cochrane+Nancy Mallory vs Willie Lafrades+Nancy Mallory>, <Matchup: 4: 2020 Spring Start:2020-01-06 End:2020-04-05:2020-01-17 set:2 court:2 Mark Mallory+Marilyn Parker vs Dave Surbeck+Marilyn Parker>, <Matchup: 4: 2020 Spring Start:2020-01-06 End:2020-04-05:2020-01-17 set:2 court:3 Jason Steele+Amanda Steele vs Jeff Thompson+Amanda Steele>, <Matchup: 4: 2020 Spring Start:2020-01-06 End:2020-04-05:2020-01-17 set:2 court:4 Ed Henderson+Linda Bloomer vs Jonathan Bloomer+Linda Bloomer>, <Matchup: 4: 2020 Spring Start:2020-01-06 End:2020-04-05:2020-01-17 set:3 court:1 Jonathan Bloomer+Angela Oddonetto vs Willie Lafrades+Angela Oddonetto>, <Matchup: 4: 2020 Spring Start:2020-01-06 End:2020-04-05:2020-01-17 set:3 court:2 Jason Steele+Linda Bloomer vs Jeff Thompson+Linda Bloomer>, <Matchup: 4: 2020 Spring Start:2020-01-06 End:2020-04-05:2020-01-17 set:3 court:3 Ed Henderson+Vicki Henderson vs Ray Cochrane+Vicki Henderson>, <Matchup: 4: 2020 Spring Start:2020-01-06 End:2020-04-05:2020-01-17 set:3 court:4 Mark Mallory+Jacque White vs Dave Surbeck+Jacque White>]>"
      ]
     },
     "execution_count": 8,
     "metadata": {},
     "output_type": "execute_result"
    }
   ],
   "source": [
    "matchups.filter(set__in=[3,2]).all()"
   ]
  },
  {
   "cell_type": "code",
   "execution_count": 29,
   "metadata": {},
   "outputs": [
    {
     "data": {
      "text/plain": [
       "<QuerySet [1, 2]>"
      ]
     },
     "execution_count": 29,
     "metadata": {},
     "output_type": "execute_result"
    }
   ],
   "source": [
    "matchups.filter(set__in=[2,1]).values_list('set', flat=True).distinct()"
   ]
  },
  {
   "cell_type": "code",
   "execution_count": 34,
   "metadata": {},
   "outputs": [],
   "source": []
  },
  {
   "cell_type": "code",
   "execution_count": 66,
   "metadata": {},
   "outputs": [
    {
     "name": "stdout",
     "output_type": "stream",
     "text": [
      "1\n",
      "2\n",
      "4\n",
      "3\n",
      "4\n",
      "3\n",
      "2\n",
      "1\n"
     ]
    }
   ],
   "source": [
    "from TBLib.teamgen import MatchRound, Match, Team, Player as TBPlayer\n",
    "\n",
    "rounds = []\n",
    "for set in [1,2]:\n",
    "    matches = matchups.filter(set=set).select_related('team1_p1', 'team1_p2', 'team2_p1', 'team2_p2')\n",
    "    round = MatchRound()\n",
    "    \n",
    "    for match in matches:\n",
    "        print(match.court)\n",
    "        m = Match(Team(match.team1_p1, match.team1_p2), Team(match.team2_p1, match.team2_p2))\n",
    "        round.add_match(m)\n",
    "        \n",
    "    rounds.append(round)"
   ]
  },
  {
   "cell_type": "code",
   "execution_count": 72,
   "metadata": {},
   "outputs": [
    {
     "name": "stderr",
     "output_type": "stream",
     "text": [
      "TBLib.teamgen.Team INFO     Jason Steele 3.5/3.9 and Dawn Lafrades 3.5/3.6 = 7.5\n",
      "TBLib.teamgen.Team INFO     Jonathan Bloomer 4.0/4.1 and Linda Bloomer 3.5/3.9 = 8.0\n",
      "TBLib.teamgen.Team INFO     Ray Cochrane 4.0/4.1 and Jacque White 4.0/4.0 = 8.1\n",
      "TBLib.teamgen.Team INFO     Mark Mallory 4.5/4.5 and Vicki Henderson 3.5/3.8 = 8.3\n",
      "TBLib.teamgen.Team INFO     Ed Henderson 3.5/3.9 and Amanda Steele 3.5/3.8 = 7.7\n",
      "TBLib.teamgen.Team INFO     Jeff Thompson 4.0/4.2 and Angela Oddonetto 3.5/3.7 = 7.9\n",
      "TBLib.teamgen.Team INFO     Willie Lafrades 4.0/4.1 and Marilyn Parker 4.0/4.2 = 8.3\n",
      "TBLib.teamgen.Team INFO     Dave Surbeck 4.5/4.5 and Nancy Mallory 3.5/3.8 = 8.3\n",
      "TBLib.teamgen.Team INFO     Ed Henderson 3.5/3.9 and Linda Bloomer 3.5/3.9 = 7.8\n",
      "TBLib.teamgen.Team INFO     Jonathan Bloomer 4.0/4.1 and Vicki Henderson 3.5/3.8 = 7.9\n",
      "TBLib.teamgen.Team INFO     Jason Steele 3.5/3.9 and Amanda Steele 3.5/3.8 = 7.7\n",
      "TBLib.teamgen.Team INFO     Jeff Thompson 4.0/4.2 and Dawn Lafrades 3.5/3.6 = 7.8\n",
      "TBLib.teamgen.Team INFO     Mark Mallory 4.5/4.5 and Marilyn Parker 4.0/4.2 = 8.7\n",
      "TBLib.teamgen.Team INFO     Dave Surbeck 4.5/4.5 and Jacque White 4.0/4.0 = 8.5\n",
      "TBLib.teamgen.Team INFO     Ray Cochrane 4.0/4.1 and Nancy Mallory 3.5/3.8 = 7.9\n",
      "TBLib.teamgen.Team INFO     Willie Lafrades 4.0/4.1 and Angela Oddonetto 3.5/3.7 = 7.8\n"
     ]
    }
   ],
   "source": [
    "for r in rounds:\n",
    "    r.display()"
   ]
  },
  {
   "cell_type": "code",
   "execution_count": null,
   "metadata": {},
   "outputs": [],
   "source": []
  },
  {
   "cell_type": "code",
   "execution_count": null,
   "metadata": {},
   "outputs": [],
   "source": []
  }
 ],
 "metadata": {
  "kernelspec": {
   "display_name": "Django Shell-Plus",
   "language": "python",
   "name": "django_extensions"
  },
  "language_info": {
   "codemirror_mode": {
    "name": "ipython",
    "version": 3
   },
   "file_extension": ".py",
   "mimetype": "text/x-python",
   "name": "python",
   "nbconvert_exporter": "python",
   "pygments_lexer": "ipython3",
   "version": "3.8.1"
  }
 },
 "nbformat": 4,
 "nbformat_minor": 2
}
