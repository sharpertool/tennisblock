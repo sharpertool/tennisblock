{
 "cells": [
  {
   "cell_type": "code",
   "execution_count": 84,
   "metadata": {},
   "outputs": [
    {
     "ename": "ImportError",
     "evalue": "cannot import name 'ArrayReplace' from 'django.contrib.postgres.fields.array' (/Volumes/sharpertool/proj/sharpertool/tennis_home/tennisblock/.venv3/lib/python3.7/site-packages/django/contrib/postgres/fields/array.py)",
     "output_type": "error",
     "traceback": [
      "\u001b[0;31m---------------------------------------------------------------------------\u001b[0m",
      "\u001b[0;31mImportError\u001b[0m                               Traceback (most recent call last)",
      "\u001b[0;32m<ipython-input-84-86fbfc5d5181>\u001b[0m in \u001b[0;36m<module>\u001b[0;34m\u001b[0m\n\u001b[0;32m----> 1\u001b[0;31m \u001b[0;32mfrom\u001b[0m \u001b[0mdjango\u001b[0m\u001b[0;34m.\u001b[0m\u001b[0mcontrib\u001b[0m\u001b[0;34m.\u001b[0m\u001b[0mpostgres\u001b[0m\u001b[0;34m.\u001b[0m\u001b[0mfields\u001b[0m\u001b[0;34m.\u001b[0m\u001b[0marray\u001b[0m \u001b[0;32mimport\u001b[0m \u001b[0mSliceTransform\u001b[0m\u001b[0;34m,\u001b[0m \u001b[0mArrayReplace\u001b[0m\u001b[0;34m\u001b[0m\u001b[0;34m\u001b[0m\u001b[0m\n\u001b[0m\u001b[1;32m      2\u001b[0m \u001b[0;32mfrom\u001b[0m \u001b[0mdjango\u001b[0m\u001b[0;34m.\u001b[0m\u001b[0mdb\u001b[0m\u001b[0;34m.\u001b[0m\u001b[0mmodels\u001b[0m \u001b[0;32mimport\u001b[0m \u001b[0mF\u001b[0m\u001b[0;34m,\u001b[0m \u001b[0mQ\u001b[0m\u001b[0;34m\u001b[0m\u001b[0;34m\u001b[0m\u001b[0m\n",
      "\u001b[0;31mImportError\u001b[0m: cannot import name 'ArrayReplace' from 'django.contrib.postgres.fields.array' (/Volumes/sharpertool/proj/sharpertool/tennis_home/tennisblock/.venv3/lib/python3.7/site-packages/django/contrib/postgres/fields/array.py)"
     ]
    }
   ],
   "source": [
    "from django.contrib.postgres.fields.array import SliceTransform, ArrayReplace\n",
    "from django.db.models import F, Q"
   ]
  },
  {
   "cell_type": "code",
   "execution_count": 4,
   "metadata": {},
   "outputs": [
    {
     "data": {
      "text/plain": [
       "<Season: 3: 2019 Fall Start:2019-09-16 End:2020-01-05>"
      ]
     },
     "execution_count": 4,
     "metadata": {},
     "output_type": "execute_result"
    }
   ],
   "source": [
    "season = Season.objects.get(pk=3) \n",
    "season"
   ]
  },
  {
   "cell_type": "code",
   "execution_count": 131,
   "metadata": {},
   "outputs": [
    {
     "name": "stdout",
     "output_type": "stream",
     "text": [
      "0\n",
      "1\n",
      "2\n",
      "3\n",
      "4\n",
      "5\n",
      "6\n",
      "7\n",
      "8\n",
      "9\n",
      "10\n",
      "11\n",
      "12\n",
      "13\n",
      "14\n",
      "15\n"
     ]
    }
   ],
   "source": [
    "meetings = season.meetings.all()\n",
    "for m in meetings:\n",
    "    print(m.season_index)\n",
    "mtg1 = meetings[0]\n",
    "mtg2 = meetings[1]"
   ]
  },
  {
   "cell_type": "code",
   "execution_count": 10,
   "metadata": {},
   "outputs": [],
   "source": [
    "sch1 = Schedule.objects.filter(meeting=mtg1)\n",
    "sch2 = Schedule.objects.filter(meeting=mtg2)"
   ]
  },
  {
   "cell_type": "code",
   "execution_count": 15,
   "metadata": {},
   "outputs": [],
   "source": [
    "sch1_ids = [s.player.id for s in sch1]\n",
    "sch2_ids = [s.player.id for s in sch2]"
   ]
  },
  {
   "cell_type": "code",
   "execution_count": 17,
   "metadata": {},
   "outputs": [
    {
     "data": {
      "text/plain": [
       "[1, 2, 54, 7, 87, 4, 19, 9, 61, 66, 94, 80, 17, 18, 109, 108]"
      ]
     },
     "execution_count": 17,
     "metadata": {},
     "output_type": "execute_result"
    }
   ],
   "source": [
    "sch1_ids\n",
    "sch2_ids"
   ]
  },
  {
   "cell_type": "code",
   "execution_count": 21,
   "metadata": {},
   "outputs": [],
   "source": [
    "sch1_out = SeasonPlayer.objects.filter(season=season).filter(~Q(player_id__in=sch1_ids))\n",
    "sch2_out = SeasonPlayer.objects.filter(season=season).filter(~Q(player_id__in=sch2_ids))"
   ]
  },
  {
   "cell_type": "code",
   "execution_count": 22,
   "metadata": {},
   "outputs": [],
   "source": [
    "sch1_ids_out = [s.player.id for s in sch1_out]\n",
    "sch2_ids_out = [s.player.id for s in sch2_out]"
   ]
  },
  {
   "cell_type": "code",
   "execution_count": 29,
   "metadata": {},
   "outputs": [
    {
     "name": "stdout",
     "output_type": "stream",
     "text": [
      "There are 16 in and 14 that are out\n"
     ]
    }
   ],
   "source": [
    "len(sorted(sch1_ids_out+sch1_ids))\n",
    "print(f\"There are {len(sch1_ids)} in and {len(sch1_ids_out)} that are out\")"
   ]
  },
  {
   "cell_type": "code",
   "execution_count": null,
   "metadata": {},
   "outputs": [],
   "source": [
    "subs = subs.filter(**{f'scheduled__{mtg1.season_index}': True})"
   ]
  },
  {
   "cell_type": "code",
   "execution_count": 62,
   "metadata": {},
   "outputs": [
    {
     "data": {
      "text/plain": [
       "<QuerySet [<PlayerAvailability: Availability Jenny Grunke for 3: 2019 Fall Start:2019-09-16 End:2020-01-05 available: [True, True, True, True, True, True, True, True, True, True, True, True, True, True, True, True]  scheduled: [False, False, False, False, False, False, False, False, False, False, False, False, False, False, False, False] played: [False, False, False, False, False, False, False, False, False, False, False, False, False, False, False, False]>, <PlayerAvailability: Availability Lori McGraw for 3: 2019 Fall Start:2019-09-16 End:2020-01-05 available: [True, True, True, True, True, True, True, True, True, True, True, True, True, True, True, True]  scheduled: [False, False, False, False, False, False, False, False, False, False, False, False, False, False, False, False] played: [False, False, False, False, False, False, False, False, False, False, False, False, False, False, False, False]>, <PlayerAvailability: Availability Jeff Trask for 3: 2019 Fall Start:2019-09-16 End:2020-01-05 available: [True, True, True, True, True, True, True, True, True, True, True, True, True, True, True, True]  scheduled: [False, False, False, False, False, False, False, False, False, False, False, False, False, False, False, False] played: [False, False, False, False, False, False, False, False, False, False, False, False, False, False, False, False]>, <PlayerAvailability: Availability Willie Lafrades for 3: 2019 Fall Start:2019-09-16 End:2020-01-05 available: [True, True, True, True, True, True, True, True, True, True, True, True, True, True, True, True]  scheduled: [False, False, False, False, False, False, False, False, False, False, False, False, False, False, False, False] played: [False, False, False, False, False, False, False, False, False, False, False, False, False, False, False, False]>, <PlayerAvailability: Availability Dawn Lafrades for 3: 2019 Fall Start:2019-09-16 End:2020-01-05 available: [True, True, True, True, True, True, True, True, True, True, True, True, True, True, True, True]  scheduled: [False, False, False, False, False, False, False, False, False, False, False, False, False, False, False, False] played: [False, False, False, False, False, False, False, False, False, False, False, False, False, False, False, False]>, <PlayerAvailability: Availability Wes Carr for 3: 2019 Fall Start:2019-09-16 End:2020-01-05 available: [False, False, True, True, True, True, True, True, True, True, True, True, True, True, True, True]  scheduled: [False, False, False, False, False, False, False, False, False, False, False, False, False, False, False, False] played: [False, False, False, False, False, False, False, False, False, False, False, False, False, False, False, False]>, <PlayerAvailability: Availability Amanda Steele for 3: 2019 Fall Start:2019-09-16 End:2020-01-05 available: [True, True, True, False, True, True, True, True, True, True, True, True, True, True, True, True]  scheduled: [False, False, False, False, False, False, False, False, False, False, False, False, False, False, False, False] played: [False, False, False, False, False, False, False, False, False, False, False, False, False, False, False, False]>, <PlayerAvailability: Availability Lisa Bettis for 3: 2019 Fall Start:2019-09-16 End:2020-01-05 available: [False, True, True, True, True, True, False, False, True, True, False, True, True, False, False, True]  scheduled: [False, False, False, False, False, False, False, False, False, False, False, False, False, False, False, False] played: [False, False, False, False, False, False, False, False, False, False, False, False, False, False, False, False]>, <PlayerAvailability: Availability Ray Otto for 3: 2019 Fall Start:2019-09-16 End:2020-01-05 available: [True, False, True, False, True, True, False, True, True, False, True, True, True, True, True, True]  scheduled: [False, False, False, False, False, False, False, False, False, False, False, False, False, False, False, False] played: [False, False, False, False, False, False, False, False, False, False, False, False, False, False, False, False]>, <PlayerAvailability: Availability Jan Treadway for 3: 2019 Fall Start:2019-09-16 End:2020-01-05 available: [False, True, True, True, True, True, True, True, False, True, True, True, True, True, True, True]  scheduled: [False, False, False, False, False, False, False, False, False, False, False, False, False, False, False, False] played: [False, False, False, False, False, False, False, False, False, False, False, False, False, False, False, False]>, <PlayerAvailability: Availability John Worsley for 3: 2019 Fall Start:2019-09-16 End:2020-01-05 available: [False, True, True, True, True, True, True, True, False, True, True, True, True, True, True, True]  scheduled: [False, False, False, False, False, False, False, False, False, False, False, False, False, False, False, False] played: [False, False, False, False, False, False, False, False, False, False, False, False, False, False, False, False]>, <PlayerAvailability: Availability Fazal Shariff for 3: 2019 Fall Start:2019-09-16 End:2020-01-05 available: [True, True, True, True, False, True, True, True, False, True, True, True, True, True, True, True]  scheduled: [False, False, False, False, False, False, False, False, False, False, False, False, False, False, False, False] played: [False, False, False, False, False, False, False, False, False, False, False, False, False, False, False, False]>, <PlayerAvailability: Availability Tara Wolf for 3: 2019 Fall Start:2019-09-16 End:2020-01-05 available: [True, False, True, True, True, True, True, True, True, True, True, True, True, True, True, True]  scheduled: [False, False, False, False, False, False, False, False, False, False, False, False, False, False, False, False] played: [False, False, False, False, False, False, False, False, False, False, False, False, False, False, False, False]>, <PlayerAvailability: Availability Jeff Thompson for 3: 2019 Fall Start:2019-09-16 End:2020-01-05 available: [False, False, False, True, True, False, True, True, True, True, True, True, True, False, False, True]  scheduled: [False, False, False, False, False, False, False, False, False, False, False, False, False, False, False, False] played: [False, False, False, False, False, False, False, False, False, False, False, False, False, False, False, False]>]>"
      ]
     },
     "execution_count": 62,
     "metadata": {},
     "output_type": "execute_result"
    }
   ],
   "source": [
    "av1_out = PlayerAvailability.objects.filter(season=season).filter(player_id__in=sch1_ids_out)\n",
    "av1_out"
   ]
  },
  {
   "cell_type": "code",
   "execution_count": 77,
   "metadata": {},
   "outputs": [],
   "source": [
    "from django.db.models import F\n",
    "av1_out.filter(F(f'schedule')=True)"
   ]
  },
  {
   "cell_type": "code",
   "execution_count": 83,
   "metadata": {},
   "outputs": [
    {
     "ename": "SyntaxError",
     "evalue": "keyword can't be an expression (<ipython-input-83-09121057de8a>, line 1)",
     "output_type": "error",
     "traceback": [
      "\u001b[0;36m  File \u001b[0;32m\"<ipython-input-83-09121057de8a>\"\u001b[0;36m, line \u001b[0;32m1\u001b[0m\n\u001b[0;31m    av1_out.update(scheduled.SliceTransform(2,2)=False)\u001b[0m\n\u001b[0m                  ^\u001b[0m\n\u001b[0;31mSyntaxError\u001b[0m\u001b[0;31m:\u001b[0m keyword can't be an expression\n"
     ]
    }
   ],
   "source": [
    "av1_out.update(scheduled=SliceTransform(2,2,)=False)"
   ]
  },
  {
   "cell_type": "code",
   "execution_count": 73,
   "metadata": {},
   "outputs": [
    {
     "ename": "SyntaxError",
     "evalue": "keyword can't be an expression (<ipython-input-73-8843aec8a185>, line 3)",
     "output_type": "error",
     "traceback": [
      "\u001b[0;36m  File \u001b[0;32m\"<ipython-input-73-8843aec8a185>\"\u001b[0;36m, line \u001b[0;32m3\u001b[0m\n\u001b[0;31m    av1_out.update(F(f'scheduled__{1}')=False)\u001b[0m\n\u001b[0m                  ^\u001b[0m\n\u001b[0;31mSyntaxError\u001b[0m\u001b[0;31m:\u001b[0m keyword can't be an expression\n"
     ]
    }
   ],
   "source": [
    "#av1_out.filter(**{f'scheduled__{0}': True})\n",
    "av1_out.update(scheduled__1=False)\n",
    "av1_out.update(F(f'scheduled__{1}')=False)\n",
    "#av1_out.update(**{f'scheduled__{mtg1.season_index}':False})\n",
    "#av1_out.update(scheduled__0=False)\n",
    "#for a in av1_out:\n",
    "#    if a.scheduled[0]:\n",
    "#        a.scheduled[0]=False\n",
    "#        a.save()"
   ]
  },
  {
   "cell_type": "code",
   "execution_count": 127,
   "metadata": {},
   "outputs": [
    {
     "name": "stdout",
     "output_type": "stream",
     "text": [
      "YY is [False, False, False, True, False, False, False, True, False, False, False, False, False, False, False, False]\n",
      "[False, False, False, False, False, False, False, False, False, False, False, False, False, False, False, False]\n"
     ]
    },
    {
     "data": {
      "text/plain": [
       "30"
      ]
     },
     "execution_count": 127,
     "metadata": {},
     "output_type": "execute_result"
    }
   ],
   "source": [
    "yy = [False]*16\n",
    "yy[3] = True\n",
    "yy[7] = True\n",
    "print(f\"YY is {yy}\")\n",
    "print(PlayerAvailability.objects.filter(season=season)[0].scheduled)\n",
    "\n",
    "# Turn on True values in Y -- theoretically\n",
    "PlayerAvailability.objects.filter(season=season).update(scheduled=(F('scheduled') or yy ))\n",
    "\n",
    "#print(PlayerAvailability.objects.filter(season=season)[3].scheduled)"
   ]
  },
  {
   "cell_type": "code",
   "execution_count": 132,
   "metadata": {},
   "outputs": [
    {
     "name": "stdout",
     "output_type": "stream",
     "text": [
      "[True, True, True, False, False, False, False, False, False, False, False, False, False, False, False, False]\n",
      "[False, False, False, False, False, False, False, False, False, False, False, False, False, False, False, False]\n",
      "[False, True, False, False, False, False, False, False, False, False, False, False, False, False, False, False]\n",
      "[True, True, False, False, False, False, False, False, False, False, False, False, False, False, False, False]\n",
      "[True, True, True, False, False, False, False, False, False, False, False, False, False, False, False, False]\n",
      "[True, True, True, False, False, False, False, False, False, False, False, False, False, False, False, False]\n",
      "[True, False, False, False, False, False, False, False, False, False, False, False, False, False, False, False]\n",
      "[True, False, True, False, False, False, False, False, False, False, False, False, False, False, False, False]\n",
      "[False, False, True, False, False, False, False, False, False, False, False, False, False, False, False, False]\n",
      "[False, True, False, False, False, False, False, False, False, False, False, False, False, False, False, False]\n",
      "[False, True, False, False, False, False, False, False, False, False, False, False, False, False, False, False]\n",
      "[True, True, False, False, False, False, False, False, False, False, False, False, False, False, False, False]\n",
      "[True, True, False, False, False, False, False, False, False, False, False, False, False, False, False, False]\n",
      "[True, True, True, False, False, False, False, False, False, False, False, False, False, False, False, False]\n",
      "[True, True, True, False, False, False, False, False, False, False, False, False, False, False, False, False]\n",
      "[False, True, True, False, False, False, False, False, False, False, False, False, False, False, False, False]\n",
      "[False, True, True, False, False, False, False, False, False, False, False, False, False, False, False, False]\n",
      "[False, True, True, False, False, False, False, False, False, False, False, False, False, False, False, False]\n",
      "[False, True, True, False, False, False, False, False, False, False, False, False, False, False, False, False]\n",
      "[False, True, True, False, False, False, False, False, False, False, False, False, False, False, False, False]\n",
      "[True, False, True, False, False, False, False, False, False, False, False, False, False, False, False, False]\n",
      "[True, False, True, False, False, False, False, False, False, False, False, False, False, False, False, False]\n",
      "[False, False, True, False, False, False, False, False, False, False, False, False, False, False, False, False]\n",
      "[True, False, True, False, False, False, False, False, False, False, False, False, False, False, False, False]\n",
      "[False, False, False, False, False, False, False, False, False, False, False, False, False, False, False, False]\n",
      "[False, False, False, False, False, False, False, False, False, False, False, False, False, False, False, False]\n",
      "[True, False, False, False, False, False, False, False, False, False, False, False, False, False, False, False]\n",
      "[False, False, False, False, False, False, False, False, False, False, False, False, False, False, False, False]\n",
      "[True, False, False, False, False, False, False, False, False, False, False, False, False, False, False, False]\n",
      "[True, False, False, False, False, False, False, False, False, False, False, False, False, False, False, False]\n"
     ]
    }
   ],
   "source": [
    "for av in PlayerAvailability.objects.filter(season=season):\n",
    "    print(av.scheduled)"
   ]
  },
  {
   "cell_type": "code",
   "execution_count": 133,
   "metadata": {},
   "outputs": [
    {
     "name": "stdout",
     "output_type": "stream",
     "text": [
      "[True, False, False, False, False, False, False, False, False, False, False, False, False, False, False, False]\n",
      "[False, False, False, False, False, False, False, False, False, False, False, False, False, False, False, False]\n",
      "[False, False, False, False, False, False, False, False, False, False, False, False, False, False, False, False]\n",
      "[True, False, False, False, False, False, False, False, False, False, False, False, False, False, False, False]\n",
      "[True, False, False, False, False, False, False, False, False, False, False, False, False, False, False, False]\n",
      "[True, False, False, False, False, False, False, False, False, False, False, False, False, False, False, False]\n",
      "[True, False, False, False, False, False, False, False, False, False, False, False, False, False, False, False]\n",
      "[True, False, False, False, False, False, False, False, False, False, False, False, False, False, False, False]\n",
      "[False, False, False, False, False, False, False, False, False, False, False, False, False, False, False, False]\n",
      "[False, False, False, False, False, False, False, False, False, False, False, False, False, False, False, False]\n",
      "[False, False, False, False, False, False, False, False, False, False, False, False, False, False, False, False]\n",
      "[True, False, False, False, False, False, False, False, False, False, False, False, False, False, False, False]\n",
      "[True, False, False, False, False, False, False, False, False, False, False, False, False, False, False, False]\n",
      "[True, False, False, False, False, False, False, False, False, False, False, False, False, False, False, False]\n",
      "[True, False, False, False, False, False, False, False, False, False, False, False, False, False, False, False]\n",
      "[False, False, False, False, False, False, False, False, False, False, False, False, False, False, False, False]\n",
      "[False, False, False, False, False, False, False, False, False, False, False, False, False, False, False, False]\n",
      "[False, False, False, False, False, False, False, False, False, False, False, False, False, False, False, False]\n",
      "[False, False, False, False, False, False, False, False, False, False, False, False, False, False, False, False]\n",
      "[False, False, False, False, False, False, False, False, False, False, False, False, False, False, False, False]\n",
      "[True, False, False, False, False, False, False, False, False, False, False, False, False, False, False, False]\n",
      "[True, False, False, False, False, False, False, False, False, False, False, False, False, False, False, False]\n",
      "[False, False, False, False, False, False, False, False, False, False, False, False, False, False, False, False]\n",
      "[True, False, False, False, False, False, False, False, False, False, False, False, False, False, False, False]\n",
      "[False, False, False, False, False, False, False, False, False, False, False, False, False, False, False, False]\n",
      "[False, False, False, False, False, False, False, False, False, False, False, False, False, False, False, False]\n",
      "[True, False, False, False, False, False, False, False, False, False, False, False, False, False, False, False]\n",
      "[False, False, False, False, False, False, False, False, False, False, False, False, False, False, False, False]\n",
      "[True, False, False, False, False, False, False, False, False, False, False, False, False, False, False, False]\n",
      "[True, False, False, False, False, False, False, False, False, False, False, False, False, False, False, False]\n"
     ]
    }
   ],
   "source": [
    "for av in PlayerAvailability.objects.filter(season=season):\n",
    "    print(av.played)"
   ]
  },
  {
   "cell_type": "code",
   "execution_count": 105,
   "metadata": {},
   "outputs": [
    {
     "name": "stdout",
     "output_type": "stream",
     "text": [
      "[False, False, False, True, False, False, False, True, False, False, False, False, False, False, False, False]\n"
     ]
    }
   ],
   "source": [
    "xx=[False]*16\n",
    "yy=xx\n",
    "xx[7]=True\n",
    "yy[3]=True\n",
    "print(xx or yy)"
   ]
  },
  {
   "cell_type": "code",
   "execution_count": 145,
   "metadata": {},
   "outputs": [
    {
     "data": {
      "text/plain": [
       "30"
      ]
     },
     "execution_count": 145,
     "metadata": {},
     "output_type": "execute_result"
    }
   ],
   "source": [
    "season_players = SeasonPlayer.objects.filter(season=season, blockmember=True)\n",
    "sp_pks = season_players.values_list('player__pk', flat=True)\n",
    "sp_pks\n",
    "len(sp_pks)"
   ]
  },
  {
   "cell_type": "code",
   "execution_count": null,
   "metadata": {},
   "outputs": [],
   "source": []
  }
 ],
 "metadata": {
  "kernelspec": {
   "display_name": "Django Shell-Plus",
   "language": "python",
   "name": "django_extensions"
  },
  "language_info": {
   "codemirror_mode": {
    "name": "ipython",
    "version": 3
   },
   "file_extension": ".py",
   "mimetype": "text/x-python",
   "name": "python",
   "nbconvert_exporter": "python",
   "pygments_lexer": "ipython3",
   "version": "3.7.4"
  }
 },
 "nbformat": 4,
 "nbformat_minor": 2
}
