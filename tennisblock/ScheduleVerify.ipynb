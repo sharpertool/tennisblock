{
 "cells": [
  {
   "cell_type": "code",
   "execution_count": 27,
   "metadata": {},
   "outputs": [],
   "source": [
    "from api.apiutils import get_meeting_for_date"
   ]
  },
  {
   "cell_type": "code",
   "execution_count": null,
   "metadata": {},
   "outputs": [],
   "source": []
  },
  {
   "cell_type": "code",
   "execution_count": 28,
   "metadata": {},
   "outputs": [
    {
     "data": {
      "text/plain": [
       "<Meeting: Meeting(30) SeasonID:3 date:2019-09-20 ho:False courts:None>"
      ]
     },
     "execution_count": 28,
     "metadata": {},
     "output_type": "execute_result"
    }
   ],
   "source": [
    "date = '2019-09-20'\n",
    "mtg = get_meeting_for_date(date)\n",
    "mtg"
   ]
  },
  {
   "cell_type": "code",
   "execution_count": 29,
   "metadata": {},
   "outputs": [
    {
     "data": {
      "text/plain": [
       "<QuerySet [<Schedule: Meeting(30) SeasonID:3 date:2019-09-20 ho:False courts:None Debbie Smith partner:Mark Smith sub:False verified:False>, <Schedule: Meeting(30) SeasonID:3 date:2019-09-20 ho:False courts:None Jeff Thompson partner:Jacque White sub:False verified:False>, <Schedule: Meeting(30) SeasonID:3 date:2019-09-20 ho:False courts:None Jacque White partner:Jeff Thompson sub:False verified:False>, <Schedule: Meeting(30) SeasonID:3 date:2019-09-20 ho:False courts:None Jay Vavrek partner:Tara Wolf sub:False verified:False>, <Schedule: Meeting(30) SeasonID:3 date:2019-09-20 ho:False courts:None Tara Wolf partner:Jay Vavrek sub:False verified:False>, <Schedule: Meeting(30) SeasonID:3 date:2019-09-20 ho:False courts:None Willie Lafrades partner:Dawn Lafrades sub:False verified:False>, <Schedule: Meeting(30) SeasonID:3 date:2019-09-20 ho:False courts:None Ed Henderson partner:Vicki Henderson sub:False verified:False>, <Schedule: Meeting(30) SeasonID:3 date:2019-09-20 ho:False courts:None Vicki Henderson partner:Ed Henderson sub:False verified:False>, <Schedule: Meeting(30) SeasonID:3 date:2019-09-20 ho:False courts:None Jason Steele partner:Amanda Steele sub:False verified:False>, <Schedule: Meeting(30) SeasonID:3 date:2019-09-20 ho:False courts:None Amanda Steele partner:Jason Steele sub:False verified:False>, <Schedule: Meeting(30) SeasonID:3 date:2019-09-20 ho:False courts:None Ray Otto partner:Kelly Sturdy sub:False verified:False>, <Schedule: Meeting(30) SeasonID:3 date:2019-09-20 ho:False courts:None Kelly Sturdy partner:Ray Otto sub:False verified:False>, <Schedule: Meeting(30) SeasonID:3 date:2019-09-20 ho:False courts:None Mark Smith partner:Debbie Smith sub:False verified:False>, <Schedule: Meeting(30) SeasonID:3 date:2019-09-20 ho:False courts:None Dawn Lafrades partner:Willie Lafrades sub:False verified:False>, <Schedule: Meeting(30) SeasonID:3 date:2019-09-20 ho:False courts:None Ray Cochrane partner:Marilyn Parker sub:False verified:False>, <Schedule: Meeting(30) SeasonID:3 date:2019-09-20 ho:False courts:None Marilyn Parker partner:Ray Cochrane sub:False verified:False>]>"
      ]
     },
     "execution_count": 29,
     "metadata": {},
     "output_type": "execute_result"
    }
   ],
   "source": [
    "sch = Schedule.objects.filter(meeting=mtg)\n",
    "sch = sch.select_related('player').select_related('verification')\n",
    "sch"
   ]
  },
  {
   "cell_type": "code",
   "execution_count": null,
   "metadata": {},
   "outputs": [],
   "source": []
  },
  {
   "cell_type": "code",
   "execution_count": 30,
   "metadata": {},
   "outputs": [
    {
     "data": {
      "text/plain": [
       "<Schedule: Meeting(30) SeasonID:3 date:2019-09-20 ho:False courts:None Ed Henderson partner:Vicki Henderson sub:False verified:False>"
      ]
     },
     "execution_count": 30,
     "metadata": {},
     "output_type": "execute_result"
    }
   ],
   "source": [
    "s = sch.first()\n",
    "s"
   ]
  },
  {
   "cell_type": "code",
   "execution_count": 31,
   "metadata": {},
   "outputs": [
    {
     "data": {
      "text/plain": [
       "UUID('e4363d5f-3153-43f1-8f1e-285992d06bef')"
      ]
     },
     "execution_count": 31,
     "metadata": {},
     "output_type": "execute_result"
    }
   ],
   "source": [
    "s.verification.code"
   ]
  },
  {
   "cell_type": "code",
   "execution_count": 32,
   "metadata": {},
   "outputs": [
    {
     "ename": "AttributeError",
     "evalue": "'Schedule' object has no attribute 'sent_on'",
     "output_type": "error",
     "traceback": [
      "\u001b[0;31m---------------------------------------------------------------------------\u001b[0m",
      "\u001b[0;31mAttributeError\u001b[0m                            Traceback (most recent call last)",
      "\u001b[0;32m<ipython-input-32-0d7aaecc7831>\u001b[0m in \u001b[0;36m<module>\u001b[0;34m\u001b[0m\n\u001b[0;32m----> 1\u001b[0;31m \u001b[0;34m[\u001b[0m\u001b[0;34m(\u001b[0m\u001b[0ms\u001b[0m\u001b[0;34m.\u001b[0m\u001b[0mplayer\u001b[0m\u001b[0;34m.\u001b[0m\u001b[0mid\u001b[0m\u001b[0;34m,\u001b[0m \u001b[0ms\u001b[0m\u001b[0;34m.\u001b[0m\u001b[0mverification\u001b[0m\u001b[0;34m.\u001b[0m\u001b[0mcode\u001b[0m\u001b[0;34m,\u001b[0m\u001b[0ms\u001b[0m\u001b[0;34m.\u001b[0m\u001b[0msent_on\u001b[0m\u001b[0;34m,\u001b[0m\u001b[0ms\u001b[0m\u001b[0;34m.\u001b[0m\u001b[0mverification\u001b[0m\u001b[0;34m.\u001b[0m\u001b[0mconfirmation_type\u001b[0m\u001b[0;34m,\u001b[0m\u001b[0ms\u001b[0m\u001b[0;34m.\u001b[0m\u001b[0mverification\u001b[0m\u001b[0;34m.\u001b[0m\u001b[0mpk\u001b[0m\u001b[0;34m,\u001b[0m\u001b[0;34m)\u001b[0m \u001b[0;32mfor\u001b[0m \u001b[0ms\u001b[0m \u001b[0;32min\u001b[0m \u001b[0msch\u001b[0m\u001b[0;34m.\u001b[0m\u001b[0mall\u001b[0m\u001b[0;34m(\u001b[0m\u001b[0;34m)\u001b[0m\u001b[0;34m]\u001b[0m\u001b[0;34m\u001b[0m\u001b[0;34m\u001b[0m\u001b[0m\n\u001b[0m",
      "\u001b[0;32m<ipython-input-32-0d7aaecc7831>\u001b[0m in \u001b[0;36m<listcomp>\u001b[0;34m(.0)\u001b[0m\n\u001b[0;32m----> 1\u001b[0;31m \u001b[0;34m[\u001b[0m\u001b[0;34m(\u001b[0m\u001b[0ms\u001b[0m\u001b[0;34m.\u001b[0m\u001b[0mplayer\u001b[0m\u001b[0;34m.\u001b[0m\u001b[0mid\u001b[0m\u001b[0;34m,\u001b[0m \u001b[0ms\u001b[0m\u001b[0;34m.\u001b[0m\u001b[0mverification\u001b[0m\u001b[0;34m.\u001b[0m\u001b[0mcode\u001b[0m\u001b[0;34m,\u001b[0m\u001b[0ms\u001b[0m\u001b[0;34m.\u001b[0m\u001b[0msent_on\u001b[0m\u001b[0;34m,\u001b[0m\u001b[0ms\u001b[0m\u001b[0;34m.\u001b[0m\u001b[0mverification\u001b[0m\u001b[0;34m.\u001b[0m\u001b[0mconfirmation_type\u001b[0m\u001b[0;34m,\u001b[0m\u001b[0ms\u001b[0m\u001b[0;34m.\u001b[0m\u001b[0mverification\u001b[0m\u001b[0;34m.\u001b[0m\u001b[0mpk\u001b[0m\u001b[0;34m,\u001b[0m\u001b[0;34m)\u001b[0m \u001b[0;32mfor\u001b[0m \u001b[0ms\u001b[0m \u001b[0;32min\u001b[0m \u001b[0msch\u001b[0m\u001b[0;34m.\u001b[0m\u001b[0mall\u001b[0m\u001b[0;34m(\u001b[0m\u001b[0;34m)\u001b[0m\u001b[0;34m]\u001b[0m\u001b[0;34m\u001b[0m\u001b[0;34m\u001b[0m\u001b[0m\n\u001b[0m",
      "\u001b[0;31mAttributeError\u001b[0m: 'Schedule' object has no attribute 'sent_on'"
     ]
    }
   ],
   "source": [
    "[(s.player.id, s.verification.code,s.sent_on,s.verification.confirmation_type,s.verification.pk,) for s in sch.all()]"
   ]
  },
  {
   "cell_type": "code",
   "execution_count": 64,
   "metadata": {},
   "outputs": [
    {
     "data": {
      "text/plain": [
       "[('debsmith5@hotmail.com',\n",
       "  datetime.datetime(2019, 9, 11, 4, 19, 16, 314333, tzinfo=<UTC>),\n",
       "  '',\n",
       "  'C'),\n",
       " ('ed@tennisblock.com',\n",
       "  datetime.datetime(2019, 9, 11, 4, 19, 18, 136747, tzinfo=<UTC>),\n",
       "  '',\n",
       "  'C'),\n",
       " ('viquee@cableone.net',\n",
       "  datetime.datetime(2019, 9, 11, 4, 19, 18, 825584, tzinfo=<UTC>),\n",
       "  '',\n",
       "  'C'),\n",
       " ('stldalton@gmail.com',\n",
       "  datetime.datetime(2019, 9, 11, 4, 19, 20, 568347, tzinfo=<UTC>),\n",
       "  '',\n",
       "  'C'),\n",
       " ('horsecrazysteele@aol.com',\n",
       "  datetime.datetime(2019, 9, 11, 4, 19, 20, 197473, tzinfo=<UTC>),\n",
       "  '',\n",
       "  'A'),\n",
       " ('Rjotto12@gmail.com',\n",
       "  datetime.datetime(2019, 9, 11, 4, 19, 21, 343103, tzinfo=<UTC>),\n",
       "  '',\n",
       "  'C'),\n",
       " ('kellysturdy@gmail.com',\n",
       "  datetime.datetime(2019, 9, 11, 4, 19, 16, 677283, tzinfo=<UTC>),\n",
       "  '',\n",
       "  'C'),\n",
       " ('mark.w.smth@icloud.com',\n",
       "  datetime.datetime(2019, 9, 11, 4, 19, 17, 799704, tzinfo=<UTC>),\n",
       "  '',\n",
       "  'C'),\n",
       " ('raycochrane@cableone.net',\n",
       "  datetime.datetime(2019, 9, 18, 15, 8, 8, 513755, tzinfo=<UTC>),\n",
       "  'ed+testing@tennisblock.com',\n",
       "  'A'),\n",
       " ('mkparker1223@gmail.com',\n",
       "  datetime.datetime(2019, 9, 11, 4, 19, 15, 983978, tzinfo=<UTC>),\n",
       "  '',\n",
       "  'C'),\n",
       " ('mrgabby@q.com',\n",
       "  datetime.datetime(2019, 9, 18, 15, 8, 8, 634531, tzinfo=<UTC>),\n",
       "  'ed+testing@tennisblock.com',\n",
       "  'A'),\n",
       " ('monica@sawtoothepi.com',\n",
       "  datetime.datetime(2019, 9, 18, 15, 8, 8, 751811, tzinfo=<UTC>),\n",
       "  'ed+testing@tennisblock.com',\n",
       "  'A'),\n",
       " ('jmv1013@yahoo.com',\n",
       "  datetime.datetime(2019, 9, 11, 4, 19, 19, 859558, tzinfo=<UTC>),\n",
       "  '',\n",
       "  'A'),\n",
       " ('donaleequinn@yahoo.com',\n",
       "  datetime.datetime(2019, 9, 18, 15, 8, 8, 871909, tzinfo=<UTC>),\n",
       "  'ed+testing@tennisblock.com',\n",
       "  'A'),\n",
       " ('bkittelson@gmail.com',\n",
       "  datetime.datetime(2019, 9, 18, 15, 8, 8, 984216, tzinfo=<UTC>),\n",
       "  'ed+testing@tennisblock.com',\n",
       "  'A'),\n",
       " ('kristinekittelson@gmail.com',\n",
       "  datetime.datetime(2019, 9, 18, 15, 8, 9, 93318, tzinfo=<UTC>),\n",
       "  'ed+testing@tennisblock.com',\n",
       "  'A')]"
      ]
     },
     "execution_count": 64,
     "metadata": {},
     "output_type": "execute_result"
    }
   ],
   "source": [
    "from django.db.models import Q\n",
    "schall = ScheduleVerify.objects.filter(schedule__in=sch)\n",
    "[(s.schedule.player.user.email, s.sent_on, s.sent_to,s.confirmation_type,) for s in schall]"
   ]
  },
  {
   "cell_type": "code",
   "execution_count": 99,
   "metadata": {},
   "outputs": [
    {
     "data": {
      "text/plain": [
       "(datetime.datetime(2019, 9, 18, 18, 2, 59, 113310, tzinfo=<UTC>),\n",
       " 'edhenderson@cableone.net',\n",
       " 'A',\n",
       " None)"
      ]
     },
     "execution_count": 99,
     "metadata": {},
     "output_type": "execute_result"
    }
   ],
   "source": [
    "ray = Player.objects.get(user__last_name='Cochrane')\n",
    "ray_verify = ScheduleVerify.objects.get(schedule__player=ray)\n",
    "(ray_verify.sent_on,ray_verify.sent_to,ray_verify.confirmation_type, ray_verify.received_on,)"
   ]
  },
  {
   "cell_type": "code",
   "execution_count": 100,
   "metadata": {},
   "outputs": [],
   "source": [
    "ray_verify.sent_on = None\n",
    "ray_verify.sent_to = ''\n",
    "ray_verify.confirmation_type = 'N'\n",
    "ray_verify.received_on = None\n",
    "ray_verify.save()"
   ]
  },
  {
   "cell_type": "code",
   "execution_count": 8,
   "metadata": {},
   "outputs": [
    {
     "data": {
      "text/plain": [
       "[('Ed Henerson', 'ed@tennisblock.com'),\n",
       " ('', 'viquee@me.com'),\n",
       " ('Bob Segar', 'bob@silverbullet.com')]"
      ]
     },
     "execution_count": 8,
     "metadata": {},
     "output_type": "execute_result"
    }
   ],
   "source": [
    "from email.utils import getaddresses\n",
    "getaddresses([\"Ed Henerson <ed@tennisblock.com>,viquee@me.com, Bob Segar <bob@silverbullet.com>\"])"
   ]
  },
  {
   "cell_type": "code",
   "execution_count": 11,
   "metadata": {},
   "outputs": [
    {
     "data": {
      "text/plain": [
       "['ed@tennisblock.com', 'viquee@me.com']"
      ]
     },
     "execution_count": 11,
     "metadata": {},
     "output_type": "execute_result"
    }
   ],
   "source": [
    "from django.conf import settings\n",
    "settings.BLOCK_CAPTAINS\n",
    "recipients = [s[1] for s in settings.BLOCK_CAPTAINS]\n",
    "recipients"
   ]
  },
  {
   "cell_type": "code",
   "execution_count": 53,
   "metadata": {},
   "outputs": [],
   "source": [
    "sch_players = Schedule.objects.filter(meeting=mtg)\n",
    "sch_players.count()\n",
    "sch_player = sch_players[0]\n",
    "sch_player.player"
   ]
  },
  {
   "cell_type": "code",
   "execution_count": 61,
   "metadata": {},
   "outputs": [
    {
     "data": {
      "text/plain": [
       "14"
      ]
     },
     "execution_count": 61,
     "metadata": {},
     "output_type": "execute_result"
    }
   ],
   "source": [
    "ids = [s.player.id for s in sch_players]\n",
    "season_players = SeasonPlayer.objects.filter(season=mtg.season, blockmember=True)\n",
    "season_players = season_players.filter(~Q(player__in=ids))\n",
    "season_players.count()"
   ]
  },
  {
   "cell_type": "code",
   "execution_count": null,
   "metadata": {},
   "outputs": [],
   "source": []
  }
 ],
 "metadata": {
  "kernelspec": {
   "display_name": "Django Shell-Plus",
   "language": "python",
   "name": "django_extensions"
  },
  "language_info": {
   "codemirror_mode": {
    "name": "ipython",
    "version": 3
   },
   "file_extension": ".py",
   "mimetype": "text/x-python",
   "name": "python",
   "nbconvert_exporter": "python",
   "pygments_lexer": "ipython3",
   "version": "3.7.4"
  }
 },
 "nbformat": 4,
 "nbformat_minor": 2
}
