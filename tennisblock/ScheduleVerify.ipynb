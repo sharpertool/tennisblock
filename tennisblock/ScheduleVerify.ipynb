{
 "cells": [
  {
   "cell_type": "code",
   "execution_count": 1,
   "metadata": {},
   "outputs": [],
   "source": [
    "from api.apiutils import get_meeting_for_date"
   ]
  },
  {
   "cell_type": "code",
   "execution_count": 2,
   "metadata": {},
   "outputs": [
    {
     "data": {
      "text/plain": [
       "<Meeting: Meeting(30) SeasonID:3 date:2019-09-20 ho:False courts:None>"
      ]
     },
     "execution_count": 2,
     "metadata": {},
     "output_type": "execute_result"
    }
   ],
   "source": [
    "date = '2019-09-20'\n",
    "mtg = get_meeting_for_date(date)\n",
    "mtg"
   ]
  },
  {
   "cell_type": "code",
   "execution_count": 11,
   "metadata": {},
   "outputs": [],
   "source": [
    "sch = Schedule.objects.filter(meeting=mtg)\n",
    "sch = sch.select_related('player').select_related('verification')"
   ]
  },
  {
   "cell_type": "code",
   "execution_count": 12,
   "metadata": {},
   "outputs": [
    {
     "data": {
      "text/plain": [
       "<Schedule: Meeting(30) SeasonID:3 date:2019-09-20 ho:False courts:None Ed Henderson partner:Vicki Henderson sub:False verified:False>"
      ]
     },
     "execution_count": 12,
     "metadata": {},
     "output_type": "execute_result"
    }
   ],
   "source": [
    "s = sch.first()\n",
    "s"
   ]
  },
  {
   "cell_type": "code",
   "execution_count": 6,
   "metadata": {},
   "outputs": [
    {
     "data": {
      "text/plain": [
       "UUID('e4363d5f-3153-43f1-8f1e-285992d06bef')"
      ]
     },
     "execution_count": 6,
     "metadata": {},
     "output_type": "execute_result"
    }
   ],
   "source": [
    "s.verification.code"
   ]
  },
  {
   "cell_type": "code",
   "execution_count": 14,
   "metadata": {},
   "outputs": [
    {
     "data": {
      "text/plain": [
       "[(18, UUID('6988ad46-8d1f-4f30-a753-723a013df81b'), 'A', 2791),\n",
       " (19, UUID('6036077e-b753-44d7-ad0d-8359c227b70e'), 'A', 2792),\n",
       " (9, UUID('c2993a40-104f-45a4-9d64-f0cf407b0fc7'), 'A', 2793),\n",
       " (135, UUID('e75055de-788d-42b3-a665-4eafe8639aee'), 'A', 2794),\n",
       " (134, UUID('148ca790-f54c-4a48-8cd4-1a30a8aab5fd'), 'A', 2795),\n",
       " (74, UUID('937ca08a-d46d-4800-bd4a-11b5ee90a613'), 'A', 2796),\n",
       " (75, UUID('d33f7563-1977-4227-9278-4cb85b9c0067'), 'C', 2797),\n",
       " (61, UUID('8f1fc253-c1c1-4c22-b99e-5c85f53b6795'), 'R', 2798),\n",
       " (1, UUID('e4363d5f-3153-43f1-8f1e-285992d06bef'), 'C', 2784),\n",
       " (2, UUID('574ff716-0009-4b9b-a4dc-99e23eefd809'), 'C', 2785),\n",
       " (113, UUID('ce2ae97c-17c6-465b-b1f4-c81fa317e51a'), 'A', 2786),\n",
       " (112, UUID('c7c131ef-1d4c-4818-bcdb-3d7c31c3b7cb'), 'A', 2787),\n",
       " (136, UUID('8062272e-21ec-453e-882b-383850ebf86f'), 'A', 2788),\n",
       " (41, UUID('04f31629-ee57-4581-9df6-d5e799dd6528'), 'A', 2789),\n",
       " (17, UUID('56087914-d794-46e6-90ed-c77971f47176'), 'A', 2790),\n",
       " (66, UUID('422c9624-cedb-4a2e-aea5-437be7ff6a16'), 'A', 2799)]"
      ]
     },
     "execution_count": 14,
     "metadata": {},
     "output_type": "execute_result"
    }
   ],
   "source": [
    "[(s.player.id, s.verification.code,s.verification.confirmation_type,s.verification.pk,) for s in sch.all()]"
   ]
  },
  {
   "cell_type": "code",
   "execution_count": null,
   "metadata": {},
   "outputs": [],
   "source": []
  }
 ],
 "metadata": {
  "kernelspec": {
   "display_name": "Django Shell-Plus",
   "language": "python",
   "name": "django_extensions"
  },
  "language_info": {
   "codemirror_mode": {
    "name": "ipython",
    "version": 3
   },
   "file_extension": ".py",
   "mimetype": "text/x-python",
   "name": "python",
   "nbconvert_exporter": "python",
   "pygments_lexer": "ipython3",
   "version": "3.7.4"
  }
 },
 "nbformat": 4,
 "nbformat_minor": 2
}
